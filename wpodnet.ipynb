{
 "cells": [
  {
   "cell_type": "code",
   "execution_count": 1,
   "metadata": {},
   "outputs": [],
   "source": [
    "from pytorch_model import load_wpod\n",
    "import cv2\n",
    "import numpy as np\n",
    "from matplotlib import pyplot as plt\n",
    "from PIL import Image\n",
    "from torchvision import transforms, utils, models\n",
    "from torch import nn\n",
    "import torch\n",
    "from src.label import Label, Shape\n",
    "from src.utils import getWH, nms, im2single, IOU_centre_and_dims\n",
    "from src.projection_utils import getRectPts, find_T_matrix\n",
    "import time\n",
    "from utils import *\n",
    "from tqdm import tqdm\n",
    "from torchviz import make_dot, make_dot_from_trace"
   ]
  },
  {
   "cell_type": "code",
   "execution_count": 5,
   "metadata": {},
   "outputs": [],
   "source": [
    "pil_to_tensor = transforms.ToTensor()\n",
    "tensor_to_pil = transforms.ToPILImage()"
   ]
  },
  {
   "cell_type": "code",
   "execution_count": 71,
   "metadata": {},
   "outputs": [],
   "source": [
    "class DLabel (Label):\n",
    "\n",
    "    def __init__(self,cl,pts,prob):\n",
    "        self.pts = pts\n",
    "        tl = np.amin(pts,1)\n",
    "        br = np.amax(pts,1)\n",
    "        Label.__init__(self,cl,tl,br,prob)\n",
    "\n",
    "\n",
    "def reconstruct(Iorig,I,Y,out_size,threshold=.9):\n",
    "\n",
    "    net_stride \t= 2**4\n",
    "    side = ((208. + 40.)/2.)/net_stride # 7.75\n",
    "    \n",
    "    Probs = Y[...,0]\n",
    "    Affines = Y[...,2:]\n",
    "    rx,ry = Y.shape[:2]\n",
    "    ywh = Y.shape[1::-1]\n",
    "    iwh = np.array(I.shape[1::-1],dtype=float).reshape((2,1))\n",
    "    xx,yy = np.where(Probs>threshold)\n",
    "    \n",
    "    WH = getWH(I.shape)\n",
    "    MN = WH/net_stride\n",
    "\n",
    "    vxx = vyy = 0.5 #alpha\n",
    "\n",
    "    base = lambda vx,vy: np.matrix([[-vx,-vy,1.],[vx,-vy,1.],[vx,vy,1.],[-vx,vy,1.]]).T\n",
    "    labels = []\n",
    "\n",
    "    for i in range(len(xx)):\n",
    "        y,x = xx[i],yy[i]\n",
    "        affine = Affines[y,x]\n",
    "        prob = Probs[y,x]\n",
    "        mn = np.array([float(x) + .5,float(y) + .5])\n",
    "        A = np.reshape(affine,(2,3))\n",
    "        A[0,0] = max(A[0,0],0.)\n",
    "        A[1,1] = max(A[1,1],0.)\n",
    "        pts = np.array(A*base(vxx,vyy)) #*alpha\n",
    "        pts_MN_center_mn = pts*side\n",
    "        pts_MN = pts_MN_center_mn + mn.reshape((2,1))\n",
    "\n",
    "        pts_prop = pts_MN/MN.reshape((2,1))\n",
    "\n",
    "        labels.append(DLabel(0,pts_prop,prob))\n",
    "\n",
    "    final_labels = nms(labels,.1)\n",
    "    TLps = []\n",
    "\n",
    "    if len(final_labels):\n",
    "        final_labels.sort(key=lambda x: x.prob(), reverse=True)\n",
    "        for i,label in enumerate(final_labels):\n",
    "\n",
    "            t_ptsh \t= getRectPts(0,0,out_size[0],out_size[1])\n",
    "            ptsh \t= np.concatenate((label.pts*getWH(Iorig.shape).reshape((2,1)),np.ones((1,4))))\n",
    "            H \t\t= find_T_matrix(ptsh,t_ptsh)\n",
    "            Ilp \t= cv2.warpPerspective(Iorig,H,out_size,borderValue=.0)\n",
    "\n",
    "            TLps.append(Ilp)\n",
    "\n",
    "    return final_labels,TLps\n",
    "    \n",
    "\n",
    "def detect_lp(model,I,max_dim,net_step,out_size,threshold,masked_pattern=None,train=None):\n",
    "\n",
    "    min_dim_img = min(I.shape[:2])\n",
    "    factor \t\t= float(max_dim)/min_dim_img\n",
    "\n",
    "    w,h = (np.array(I.shape[1::-1],dtype=float)*factor).astype(int).tolist()\n",
    "    w += (w%net_step!=0)*(net_step - w%net_step)\n",
    "    h += (h%net_step!=0)*(net_step - h%net_step)\n",
    "    Iresized = cv2.resize(I,(w,h))\n",
    "\n",
    "    Tn = Iresized.copy()\n",
    "    Tn = Tn.reshape((1,Tn.shape[0],Tn.shape[1],Tn.shape[2]))\n",
    "    Tn = torch.tensor(Tn, device=device).permute(0,3,1,2)\n",
    "    start = time.time()\n",
    "    model.eval()\n",
    "    if masked_pattern is not None:\n",
    "        Tn = Tn*masked_pattern\n",
    "    if train:\n",
    "        Yr = model(Tn).permute(0,2,3,1)\n",
    "        Yr = np.squeeze(Yr)\n",
    "        return None,None,None,Yr,Tn\n",
    "    else:\n",
    "        Yr = model(Tn).permute(0,2,3,1).cpu().detach().numpy()\n",
    "    Yr = np.squeeze(Yr)\n",
    "    elapsed = time.time() - start\n",
    "    \n",
    "    L,TLps = reconstruct(I,Iresized,Yr,out_size,threshold)\n",
    "\n",
    "    return L,TLps,elapsed,Yr,Tn\n"
   ]
  },
  {
   "cell_type": "code",
   "execution_count": 7,
   "metadata": {},
   "outputs": [],
   "source": [
    "def labels2output_map(label,lppts,dim,stride):\n",
    "\n",
    "\tside = ((float(dim) + 40.)/2.)/stride # 7.75 when dim = 208 and stride = 16\n",
    "\n",
    "\toutsize = int(dim/stride)\n",
    "\tY  = np.zeros((outsize,outsize,2*4+1),dtype='float32')\n",
    "\tMN = np.array([outsize,outsize])\n",
    "\tWH = np.array([dim,dim],dtype=float)\n",
    "\n",
    "\ttlx,tly = np.floor(np.maximum(label.tl(),0.)*MN).astype(int).tolist()\n",
    "\tbrx,bry = np.ceil (np.minimum(label.br(),1.)*MN).astype(int).tolist()\n",
    "\n",
    "\tfor x in range(tlx,brx):\n",
    "\t\tfor y in range(tly,bry):\n",
    "\n",
    "\t\t\tmn = np.array([float(x) + .5, float(y) + .5])\n",
    "\t\t\tiou = IOU_centre_and_dims(mn/MN,label.wh(),label.cc(),label.wh())\n",
    "\n",
    "\t\t\tif iou > .5:\n",
    "\n",
    "\t\t\t\tp_WH = lppts*WH.reshape((2,1))\n",
    "\t\t\t\tp_MN = p_WH/stride\n",
    "\n",
    "\t\t\t\tp_MN_center_mn = p_MN - mn.reshape((2,1))\n",
    "\n",
    "\t\t\t\tp_side = p_MN_center_mn/side\n",
    "\n",
    "\t\t\t\tY[y,x,0] = 1.\n",
    "\t\t\t\tY[y,x,1:] = p_side.T.flatten()\n",
    "\n",
    "\treturn Y"
   ]
  },
  {
   "cell_type": "code",
   "execution_count": 8,
   "metadata": {},
   "outputs": [
    {
     "name": "stdout",
     "output_type": "stream",
     "text": [
      "Searching for license plates using WPOD-NET\n",
      "(208, 208, 3)\n",
      "\t\tBound dim: 288, ratio: 1.000000\n",
      "found\n"
     ]
    },
    {
     "data": {
      "image/png": "[encoded data removed]",
      "text/plain": [
       "<Figure size 432x288 with 1 Axes>"
      ]
     },
     "metadata": {
      "needs_background": "light"
     },
     "output_type": "display_data"
    }
   ],
   "source": [
    "def adjust_pts(pts,lroi):\n",
    "\treturn pts*lroi.wh().reshape((2,1)) + lroi.tl().reshape((2,1))\n",
    "\n",
    "\n",
    "output_dir = \"./temp\"\n",
    "\n",
    "lp_threshold = .5\n",
    "\n",
    "wpod_net = load_wpod()\n",
    "wpod_net.to(device)\n",
    "wpod_net.eval()\n",
    "print('Searching for license plates using WPOD-NET')\n",
    "\n",
    "Ivehicle = cv2.imread('Plate_examples/germany_car_plate.jpg')\n",
    "Ivehicle = cv2.resize(Ivehicle,(208,208))\n",
    "#Ivehicle = Ivehicle[450:630, 480:1170]\n",
    "plt.imshow(Ivehicle)\n",
    "print(Ivehicle.shape)\n",
    "#Ivehicle = cv2.bitwise_and(Ivehicle, Ivehicle, mask=cv2.bitwise_not(get_mask(Ivehicle)))\n",
    "ratio = float(max(Ivehicle.shape[:2]))/min(Ivehicle.shape[:2])\n",
    "side  = int(ratio*288.)\n",
    "bound_dim = min(side + (side%(2**4)),608)\n",
    "print(\"\\t\\tBound dim: %d, ratio: %f\" % (bound_dim,ratio)) \n",
    "\n",
    "Llp,LlpImgs,_,Yr,_ = detect_lp(wpod_net,im2single(Ivehicle),bound_dim,2**4,(240,80),lp_threshold)\n",
    "\n",
    "if len(LlpImgs):\n",
    "    print('found')\n",
    "    Ilp = LlpImgs[0]\n",
    "    Ilp = cv2.cvtColor(Ilp, cv2.COLOR_BGR2GRAY)\n",
    "    Ilp = cv2.cvtColor(Ilp, cv2.COLOR_GRAY2BGR)\n",
    "\n",
    "    s = Shape(Llp[0].pts)\n",
    "\n",
    "    plt.imshow(Ilp)\n"
   ]
  },
  {
   "cell_type": "code",
   "execution_count": 9,
   "metadata": {},
   "outputs": [],
   "source": [
    "tl,br = s.pts.min(1),s.pts.max(1)\n",
    "llp = Label(0,tl,br)\n",
    "Y = labels2output_map(llp,s.pts,288,16)"
   ]
  },
  {
   "cell_type": "code",
   "execution_count": 10,
   "metadata": {},
   "outputs": [
    {
     "data": {
      "text/plain": [
       "(208, 208, 3)"
      ]
     },
     "execution_count": 10,
     "metadata": {},
     "output_type": "execute_result"
    }
   ],
   "source": [
    "Ivehicle.shape"
   ]
  },
  {
   "cell_type": "code",
   "execution_count": 11,
   "metadata": {},
   "outputs": [
    {
     "data": {
      "text/plain": [
       "(array([7, 8, 8, 8]), array([ 9,  8,  9, 10]))"
      ]
     },
     "execution_count": 11,
     "metadata": {},
     "output_type": "execute_result"
    }
   ],
   "source": [
    "np.where(Yr[...,1]<0.1)"
   ]
  },
  {
   "cell_type": "code",
   "execution_count": 93,
   "metadata": {},
   "outputs": [
    {
     "name": "stdout",
     "output_type": "stream",
     "text": [
      "(288, 288)\n"
     ]
    },
    {
     "data": {
      "text/plain": [
       "array([[0, 0, 0, ..., 0, 0, 0],\n",
       "       [0, 0, 0, ..., 0, 0, 0],\n",
       "       [0, 0, 0, ..., 0, 0, 0],\n",
       "       ...,\n",
       "       [0, 0, 0, ..., 0, 0, 0],\n",
       "       [0, 0, 0, ..., 0, 0, 0],\n",
       "       [0, 0, 0, ..., 0, 0, 0]], dtype=uint8)"
      ]
     },
     "execution_count": 93,
     "metadata": {},
     "output_type": "execute_result"
    },
    {
     "data": {
      "image/png": "[encoded data removed]",
      "text/plain": [
       "<Figure size 432x288 with 1 Axes>"
      ]
     },
     "metadata": {
      "needs_background": "light"
     },
     "output_type": "display_data"
    }
   ],
   "source": [
    "def get_mask(Ivehicle,h=None,w=None,d=None):\n",
    "    if h:\n",
    "        height,width,depth = h,w,d\n",
    "    else: height,width,depth = Ivehicle.shape\n",
    "    x = Ivehicle.copy()\n",
    "    x = cv2.resize(x,(height,width))\n",
    "    circle_img = np.zeros((height,width), np.uint8)\n",
    "    cv2.rectangle(circle_img,(86,107),(212,152),280,thickness=-1)\n",
    "    print(circle_img.shape)\n",
    "    #circle_img = circle_img.reshape((1,circle_img.shape[0],circle_img.shape[1]))\n",
    "    #circle_img = torch.tensor(circle_img).permute(0,1,2)\n",
    "    #cv2.rectangle(circle_img,(480,480),(1170,570),255,thickness=-1)\n",
    "    plt.imshow(cv2.bitwise_and(x, x, mask=circle_img))\n",
    "    return circle_img\n",
    "get_mask(Ivehicle,288,288,3)"
   ]
  },
  {
   "cell_type": "code",
   "execution_count": 20,
   "metadata": {},
   "outputs": [],
   "source": [
    "account_resize = True\n",
    "repeat_size=1"
   ]
  },
  {
   "cell_type": "markdown",
   "metadata": {},
   "source": [
    "#For resize post convolution\n",
    "if account_resize:\n",
    "    repeat_size = int(3024/3024)\n",
    "    img = Ivehicle.resize((208,208))\n",
    "    model_img_size = img.size[0]\n",
    "    img_t = pil_to_tensor(img)\n",
    "    img_t = img_t.to(device)\n",
    "    def resize2d(img, size):\n",
    "        return (F.adaptive_avg_pool2d(Variable(img), size)).data\n",
    "    def upsample2d(img, size=224):\n",
    "        upsample = nn.Upsample(size=size, mode='bilinear', align_corners=False)\n",
    "        return upsample(torch.unsqueeze(img, 0))[0]\n",
    "else:\n",
    "    model_img_size = 224"
   ]
  },
  {
   "cell_type": "code",
   "execution_count": 21,
   "metadata": {},
   "outputs": [],
   "source": [
    "model_img_size = 288"
   ]
  },
  {
   "cell_type": "code",
   "execution_count": 22,
   "metadata": {},
   "outputs": [
    {
     "data": {
      "text/plain": [
       "76"
      ]
     },
     "execution_count": 22,
     "metadata": {},
     "output_type": "execute_result"
    }
   ],
   "source": [
    "# typical exposure is in form 1/n s. Available: 15, 20, 25 30, 40, 50, 60, 80, 100, 125, 160, 200, 250\n",
    "exposure = 125 \n",
    "exp_micros = 1000000/exposure          # get exposure in microseconds\n",
    "img_ratio = 3024 / model_img_size      # every row in model is img_ratio rows in original image\n",
    "model_tr = 10 * img_ratio              # multiply real tr (10 micros) by img_ratio to find model tr\n",
    "conv_size = exp_micros / model_tr      # divide exposure time by tr to find convolution size\n",
    "conv_size = int(conv_size)             # Need closest integer approximation. Won't cause a significant difference\n",
    "conv_size"
   ]
  },
  {
   "cell_type": "code",
   "execution_count": 23,
   "metadata": {},
   "outputs": [],
   "source": [
    "Ivehicle = cv2.imread('Plate_examples/germany_car_plate.jpg')\n",
    "Ivehicle = cv2.resize(Ivehicle,(208,208))"
   ]
  },
  {
   "cell_type": "code",
   "execution_count": 202,
   "metadata": {},
   "outputs": [
    {
     "name": "stdout",
     "output_type": "stream",
     "text": [
      "(288, 288)\n"
     ]
    },
    {
     "data": {
      "image/png": "[encoded data removed]",
      "text/plain": [
       "<Figure size 432x288 with 1 Axes>"
      ]
     },
     "metadata": {
      "needs_background": "light"
     },
     "output_type": "display_data"
    }
   ],
   "source": [
    "sz = model_img_size + conv_size - 1 # 300   #Length of input signal\n",
    "c = 0    #Ambient light ratio\n",
    "c_limits = [0,0]\n",
    "batch = 1\n",
    "channels = 3\n",
    "# change of variable term to optimise on\n",
    "w = torch.ones([channels,sz,1], requires_grad=True, dtype=torch.float, device=device)\n",
    "\n",
    "#Create the mask to only illuminate the object\n",
    "#mask = torch.tensor(get_mask(Ivehicle,288,288,3), dtype=torch.float, device=device)\n",
    "mask = torch.tensor(get_mask(Ivehicle,288,288,3), device=device)\n",
    "mask = mask / torch.max(mask)\n",
    "#mask = get_mask(Ivehicle,288,288,3)\n",
    "\n",
    "#Target and original class labels\n",
    "#orig = torch.tensor([classidx], dtype=torch.long, device=device)\n",
    "\n",
    "#Model parameters\n",
    "lr = 1e-1\n",
    "n_epochs = 5000\n",
    "optimizer = optim.Adam([w], lr=lr)\n",
    "loss_fn = nn.CrossEntropyLoss()"
   ]
  },
  {
   "cell_type": "code",
   "execution_count": 203,
   "metadata": {},
   "outputs": [],
   "source": [
    "labelf = torch.flatten(torch.tensor(Y[...,0], dtype=torch.float, device=device))\n",
    "labelnf = torch.flatten(torch.tensor(1-Y[...,0], dtype=torch.float, device=device))\n",
    "def logloss(ptrue, pred, eps=10e-10):\n",
    "    Pred = torch.clamp(pred,eps,1.)\n",
    "    Pred = -torch.log(Pred)\n",
    "    Pred = torch.dot(Pred,ptrue)\n",
    "    #Pred = torch.reshape(Pred,(b,h*w*ch))\n",
    "    #Pred = torch.sum(Pred,1)\n",
    "    return Pred"
   ]
  },
  {
   "cell_type": "code",
   "execution_count": 204,
   "metadata": {},
   "outputs": [
    {
     "name": "stderr",
     "output_type": "stream",
     "text": [
      "  0%|          | 0/5000 [00:00<?, ?it/s]"
     ]
    },
    {
     "name": "stdout",
     "output_type": "stream",
     "text": [
      "tensor(4.1493, device='cuda:0', grad_fn=<MulBackward0>)\n"
     ]
    },
    {
     "name": "stderr",
     "output_type": "stream",
     "text": [
      "  2%|▏         | 105/5000 [00:03<02:21, 34.49it/s]"
     ]
    },
    {
     "name": "stdout",
     "output_type": "stream",
     "text": [
      "tensor(4.9057, device='cuda:0', grad_fn=<MulBackward0>)\n"
     ]
    },
    {
     "name": "stderr",
     "output_type": "stream",
     "text": [
      "  4%|▍         | 205/5000 [00:06<02:21, 33.95it/s]"
     ]
    },
    {
     "name": "stdout",
     "output_type": "stream",
     "text": [
      "tensor(6.2136, device='cuda:0', grad_fn=<MulBackward0>)\n"
     ]
    },
    {
     "name": "stderr",
     "output_type": "stream",
     "text": [
      "  6%|▌         | 305/5000 [00:09<02:15, 34.70it/s]"
     ]
    },
    {
     "name": "stdout",
     "output_type": "stream",
     "text": [
      "tensor(6.3549, device='cuda:0', grad_fn=<MulBackward0>)\n"
     ]
    },
    {
     "name": "stderr",
     "output_type": "stream",
     "text": [
      "  8%|▊         | 405/5000 [00:12<02:13, 34.52it/s]"
     ]
    },
    {
     "name": "stdout",
     "output_type": "stream",
     "text": [
      "tensor(6.4024, device='cuda:0', grad_fn=<MulBackward0>)\n"
     ]
    },
    {
     "name": "stderr",
     "output_type": "stream",
     "text": [
      " 10%|█         | 505/5000 [00:15<02:10, 34.46it/s]"
     ]
    },
    {
     "name": "stdout",
     "output_type": "stream",
     "text": [
      "tensor(6.5025, device='cuda:0', grad_fn=<MulBackward0>)\n"
     ]
    },
    {
     "name": "stderr",
     "output_type": "stream",
     "text": [
      " 12%|█▏        | 605/5000 [00:18<02:07, 34.50it/s]"
     ]
    },
    {
     "name": "stdout",
     "output_type": "stream",
     "text": [
      "tensor(6.5156, device='cuda:0', grad_fn=<MulBackward0>)\n"
     ]
    },
    {
     "name": "stderr",
     "output_type": "stream",
     "text": [
      " 14%|█▍        | 705/5000 [00:21<02:05, 34.24it/s]"
     ]
    },
    {
     "name": "stdout",
     "output_type": "stream",
     "text": [
      "tensor(6.5103, device='cuda:0', grad_fn=<MulBackward0>)\n"
     ]
    },
    {
     "name": "stderr",
     "output_type": "stream",
     "text": [
      " 16%|█▌        | 805/5000 [00:24<02:02, 34.12it/s]"
     ]
    },
    {
     "name": "stdout",
     "output_type": "stream",
     "text": [
      "tensor(6.5276, device='cuda:0', grad_fn=<MulBackward0>)\n"
     ]
    },
    {
     "name": "stderr",
     "output_type": "stream",
     "text": [
      " 18%|█▊        | 905/5000 [00:26<01:59, 34.35it/s]"
     ]
    },
    {
     "name": "stdout",
     "output_type": "stream",
     "text": [
      "tensor(6.5329, device='cuda:0', grad_fn=<MulBackward0>)\n"
     ]
    },
    {
     "name": "stderr",
     "output_type": "stream",
     "text": [
      " 20%|██        | 1005/5000 [00:29<01:55, 34.57it/s]"
     ]
    },
    {
     "name": "stdout",
     "output_type": "stream",
     "text": [
      "tensor(6.5075, device='cuda:0', grad_fn=<MulBackward0>)\n"
     ]
    },
    {
     "name": "stderr",
     "output_type": "stream",
     "text": [
      " 22%|██▏       | 1105/5000 [00:32<01:53, 34.22it/s]"
     ]
    },
    {
     "name": "stdout",
     "output_type": "stream",
     "text": [
      "tensor(6.4847, device='cuda:0', grad_fn=<MulBackward0>)\n"
     ]
    },
    {
     "name": "stderr",
     "output_type": "stream",
     "text": [
      " 24%|██▍       | 1205/5000 [00:35<01:50, 34.23it/s]"
     ]
    },
    {
     "name": "stdout",
     "output_type": "stream",
     "text": [
      "tensor(6.5395, device='cuda:0', grad_fn=<MulBackward0>)\n"
     ]
    },
    {
     "name": "stderr",
     "output_type": "stream",
     "text": [
      " 26%|██▌       | 1305/5000 [00:38<01:46, 34.61it/s]"
     ]
    },
    {
     "name": "stdout",
     "output_type": "stream",
     "text": [
      "tensor(6.5095, device='cuda:0', grad_fn=<MulBackward0>)\n"
     ]
    },
    {
     "name": "stderr",
     "output_type": "stream",
     "text": [
      " 28%|██▊       | 1405/5000 [00:41<01:44, 34.25it/s]"
     ]
    },
    {
     "name": "stdout",
     "output_type": "stream",
     "text": [
      "tensor(6.5061, device='cuda:0', grad_fn=<MulBackward0>)\n"
     ]
    },
    {
     "name": "stderr",
     "output_type": "stream",
     "text": [
      " 30%|███       | 1505/5000 [00:44<01:45, 33.23it/s]"
     ]
    },
    {
     "name": "stdout",
     "output_type": "stream",
     "text": [
      "tensor(6.5381, device='cuda:0', grad_fn=<MulBackward0>)\n"
     ]
    },
    {
     "name": "stderr",
     "output_type": "stream",
     "text": [
      " 32%|███▏      | 1605/5000 [00:47<01:38, 34.44it/s]"
     ]
    },
    {
     "name": "stdout",
     "output_type": "stream",
     "text": [
      "tensor(6.5497, device='cuda:0', grad_fn=<MulBackward0>)\n"
     ]
    },
    {
     "name": "stderr",
     "output_type": "stream",
     "text": [
      " 34%|███▍      | 1705/5000 [00:50<01:35, 34.44it/s]"
     ]
    },
    {
     "name": "stdout",
     "output_type": "stream",
     "text": [
      "tensor(6.4960, device='cuda:0', grad_fn=<MulBackward0>)\n"
     ]
    },
    {
     "name": "stderr",
     "output_type": "stream",
     "text": [
      " 36%|███▌      | 1805/5000 [00:53<01:32, 34.53it/s]"
     ]
    },
    {
     "name": "stdout",
     "output_type": "stream",
     "text": [
      "tensor(6.5253, device='cuda:0', grad_fn=<MulBackward0>)\n"
     ]
    },
    {
     "name": "stderr",
     "output_type": "stream",
     "text": [
      " 38%|███▊      | 1905/5000 [00:55<01:30, 34.25it/s]"
     ]
    },
    {
     "name": "stdout",
     "output_type": "stream",
     "text": [
      "tensor(6.5045, device='cuda:0', grad_fn=<MulBackward0>)\n"
     ]
    },
    {
     "name": "stderr",
     "output_type": "stream",
     "text": [
      " 40%|████      | 2005/5000 [00:58<01:26, 34.48it/s]"
     ]
    },
    {
     "name": "stdout",
     "output_type": "stream",
     "text": [
      "tensor(6.4677, device='cuda:0', grad_fn=<MulBackward0>)\n"
     ]
    },
    {
     "name": "stderr",
     "output_type": "stream",
     "text": [
      " 42%|████▏     | 2105/5000 [01:01<01:23, 34.48it/s]"
     ]
    },
    {
     "name": "stdout",
     "output_type": "stream",
     "text": [
      "tensor(6.5431, device='cuda:0', grad_fn=<MulBackward0>)\n"
     ]
    },
    {
     "name": "stderr",
     "output_type": "stream",
     "text": [
      " 44%|████▍     | 2205/5000 [01:04<01:21, 34.23it/s]"
     ]
    },
    {
     "name": "stdout",
     "output_type": "stream",
     "text": [
      "tensor(6.5336, device='cuda:0', grad_fn=<MulBackward0>)\n"
     ]
    },
    {
     "name": "stderr",
     "output_type": "stream",
     "text": [
      " 46%|████▌     | 2305/5000 [01:07<01:17, 34.67it/s]"
     ]
    },
    {
     "name": "stdout",
     "output_type": "stream",
     "text": [
      "tensor(6.5287, device='cuda:0', grad_fn=<MulBackward0>)\n"
     ]
    },
    {
     "name": "stderr",
     "output_type": "stream",
     "text": [
      " 48%|████▊     | 2405/5000 [01:10<01:15, 34.43it/s]"
     ]
    },
    {
     "name": "stdout",
     "output_type": "stream",
     "text": [
      "tensor(6.5324, device='cuda:0', grad_fn=<MulBackward0>)\n"
     ]
    },
    {
     "name": "stderr",
     "output_type": "stream",
     "text": [
      " 50%|█████     | 2505/5000 [01:13<01:13, 34.13it/s]"
     ]
    },
    {
     "name": "stdout",
     "output_type": "stream",
     "text": [
      "tensor(6.5403, device='cuda:0', grad_fn=<MulBackward0>)\n"
     ]
    },
    {
     "name": "stderr",
     "output_type": "stream",
     "text": [
      " 52%|█████▏    | 2605/5000 [01:16<01:09, 34.62it/s]"
     ]
    },
    {
     "name": "stdout",
     "output_type": "stream",
     "text": [
      "tensor(6.5307, device='cuda:0', grad_fn=<MulBackward0>)\n"
     ]
    },
    {
     "name": "stderr",
     "output_type": "stream",
     "text": [
      " 54%|█████▍    | 2705/5000 [01:19<01:06, 34.37it/s]"
     ]
    },
    {
     "name": "stdout",
     "output_type": "stream",
     "text": [
      "tensor(6.4643, device='cuda:0', grad_fn=<MulBackward0>)\n"
     ]
    },
    {
     "name": "stderr",
     "output_type": "stream",
     "text": [
      " 56%|█████▌    | 2805/5000 [01:22<01:03, 34.48it/s]"
     ]
    },
    {
     "name": "stdout",
     "output_type": "stream",
     "text": [
      "tensor(6.6023, device='cuda:0', grad_fn=<MulBackward0>)\n"
     ]
    },
    {
     "name": "stderr",
     "output_type": "stream",
     "text": [
      " 58%|█████▊    | 2905/5000 [01:24<01:00, 34.46it/s]"
     ]
    },
    {
     "name": "stdout",
     "output_type": "stream",
     "text": [
      "tensor(6.5380, device='cuda:0', grad_fn=<MulBackward0>)\n"
     ]
    },
    {
     "name": "stderr",
     "output_type": "stream",
     "text": [
      " 60%|██████    | 3005/5000 [01:27<00:57, 34.52it/s]"
     ]
    },
    {
     "name": "stdout",
     "output_type": "stream",
     "text": [
      "tensor(6.5248, device='cuda:0', grad_fn=<MulBackward0>)\n"
     ]
    },
    {
     "name": "stderr",
     "output_type": "stream",
     "text": [
      " 62%|██████▏   | 3105/5000 [01:30<00:54, 34.56it/s]"
     ]
    },
    {
     "name": "stdout",
     "output_type": "stream",
     "text": [
      "tensor(6.5478, device='cuda:0', grad_fn=<MulBackward0>)\n"
     ]
    },
    {
     "name": "stderr",
     "output_type": "stream",
     "text": [
      " 64%|██████▍   | 3205/5000 [01:33<00:51, 34.55it/s]"
     ]
    },
    {
     "name": "stdout",
     "output_type": "stream",
     "text": [
      "tensor(6.6235, device='cuda:0', grad_fn=<MulBackward0>)\n"
     ]
    },
    {
     "name": "stderr",
     "output_type": "stream",
     "text": [
      " 66%|██████▌   | 3305/5000 [01:36<00:49, 34.51it/s]"
     ]
    },
    {
     "name": "stdout",
     "output_type": "stream",
     "text": [
      "tensor(6.4219, device='cuda:0', grad_fn=<MulBackward0>)\n"
     ]
    },
    {
     "name": "stderr",
     "output_type": "stream",
     "text": [
      " 68%|██████▊   | 3405/5000 [01:39<00:46, 34.27it/s]"
     ]
    },
    {
     "name": "stdout",
     "output_type": "stream",
     "text": [
      "tensor(6.4934, device='cuda:0', grad_fn=<MulBackward0>)\n"
     ]
    },
    {
     "name": "stderr",
     "output_type": "stream",
     "text": [
      " 70%|███████   | 3505/5000 [01:42<00:43, 34.55it/s]"
     ]
    },
    {
     "name": "stdout",
     "output_type": "stream",
     "text": [
      "tensor(6.5662, device='cuda:0', grad_fn=<MulBackward0>)\n"
     ]
    },
    {
     "name": "stderr",
     "output_type": "stream",
     "text": [
      " 72%|███████▏  | 3605/5000 [01:45<00:40, 34.52it/s]"
     ]
    },
    {
     "name": "stdout",
     "output_type": "stream",
     "text": [
      "tensor(6.5347, device='cuda:0', grad_fn=<MulBackward0>)\n"
     ]
    },
    {
     "name": "stderr",
     "output_type": "stream",
     "text": [
      " 74%|███████▍  | 3705/5000 [01:48<00:37, 34.62it/s]"
     ]
    },
    {
     "name": "stdout",
     "output_type": "stream",
     "text": [
      "tensor(6.4990, device='cuda:0', grad_fn=<MulBackward0>)\n"
     ]
    },
    {
     "name": "stderr",
     "output_type": "stream",
     "text": [
      " 76%|███████▌  | 3805/5000 [01:50<00:34, 34.60it/s]"
     ]
    },
    {
     "name": "stdout",
     "output_type": "stream",
     "text": [
      "tensor(6.5045, device='cuda:0', grad_fn=<MulBackward0>)\n"
     ]
    },
    {
     "name": "stderr",
     "output_type": "stream",
     "text": [
      " 78%|███████▊  | 3905/5000 [01:53<00:31, 34.48it/s]"
     ]
    },
    {
     "name": "stdout",
     "output_type": "stream",
     "text": [
      "tensor(6.5898, device='cuda:0', grad_fn=<MulBackward0>)\n"
     ]
    },
    {
     "name": "stderr",
     "output_type": "stream",
     "text": [
      " 80%|████████  | 4005/5000 [01:56<00:28, 34.78it/s]"
     ]
    },
    {
     "name": "stdout",
     "output_type": "stream",
     "text": [
      "tensor(6.5019, device='cuda:0', grad_fn=<MulBackward0>)\n"
     ]
    },
    {
     "name": "stderr",
     "output_type": "stream",
     "text": [
      " 82%|████████▏ | 4105/5000 [01:59<00:25, 34.52it/s]"
     ]
    },
    {
     "name": "stdout",
     "output_type": "stream",
     "text": [
      "tensor(6.5424, device='cuda:0', grad_fn=<MulBackward0>)\n"
     ]
    },
    {
     "name": "stderr",
     "output_type": "stream",
     "text": [
      " 84%|████████▍ | 4205/5000 [02:02<00:22, 34.68it/s]"
     ]
    },
    {
     "name": "stdout",
     "output_type": "stream",
     "text": [
      "tensor(6.4828, device='cuda:0', grad_fn=<MulBackward0>)\n"
     ]
    },
    {
     "name": "stderr",
     "output_type": "stream",
     "text": [
      " 86%|████████▌ | 4305/5000 [02:05<00:20, 34.52it/s]"
     ]
    },
    {
     "name": "stdout",
     "output_type": "stream",
     "text": [
      "tensor(6.4937, device='cuda:0', grad_fn=<MulBackward0>)\n"
     ]
    },
    {
     "name": "stderr",
     "output_type": "stream",
     "text": [
      " 88%|████████▊ | 4405/5000 [02:08<00:17, 34.46it/s]"
     ]
    },
    {
     "name": "stdout",
     "output_type": "stream",
     "text": [
      "tensor(6.4999, device='cuda:0', grad_fn=<MulBackward0>)\n"
     ]
    },
    {
     "name": "stderr",
     "output_type": "stream",
     "text": [
      " 90%|█████████ | 4505/5000 [02:11<00:14, 34.73it/s]"
     ]
    },
    {
     "name": "stdout",
     "output_type": "stream",
     "text": [
      "tensor(6.5246, device='cuda:0', grad_fn=<MulBackward0>)\n"
     ]
    },
    {
     "name": "stderr",
     "output_type": "stream",
     "text": [
      " 92%|█████████▏| 4605/5000 [02:14<00:11, 34.29it/s]"
     ]
    },
    {
     "name": "stdout",
     "output_type": "stream",
     "text": [
      "tensor(6.5573, device='cuda:0', grad_fn=<MulBackward0>)\n"
     ]
    },
    {
     "name": "stderr",
     "output_type": "stream",
     "text": [
      " 94%|█████████▍| 4705/5000 [02:17<00:08, 34.51it/s]"
     ]
    },
    {
     "name": "stdout",
     "output_type": "stream",
     "text": [
      "tensor(6.4761, device='cuda:0', grad_fn=<MulBackward0>)\n"
     ]
    },
    {
     "name": "stderr",
     "output_type": "stream",
     "text": [
      " 96%|█████████▌| 4805/5000 [02:19<00:05, 34.81it/s]"
     ]
    },
    {
     "name": "stdout",
     "output_type": "stream",
     "text": [
      "tensor(6.5256, device='cuda:0', grad_fn=<MulBackward0>)\n"
     ]
    },
    {
     "name": "stderr",
     "output_type": "stream",
     "text": [
      " 98%|█████████▊| 4905/5000 [02:22<00:02, 34.49it/s]"
     ]
    },
    {
     "name": "stdout",
     "output_type": "stream",
     "text": [
      "tensor(6.4914, device='cuda:0', grad_fn=<MulBackward0>)\n"
     ]
    },
    {
     "name": "stderr",
     "output_type": "stream",
     "text": [
      "100%|██████████| 5000/5000 [02:25<00:00, 34.36it/s]\n"
     ]
    }
   ],
   "source": [
    "#Track the loss to target and original class\n",
    "targloss = []\n",
    "origloss = []\n",
    "\n",
    "#obj_dict = {}\n",
    "#w = -1*w\n",
    "#Optimisation loop. initially untargeted\n",
    "for epoch in tqdm(range(n_epochs)):\n",
    "    \n",
    "    if channels==1:\n",
    "        n_w = w.repeat(3,1,1)\n",
    "    else:\n",
    "        n_w = w\n",
    "    \n",
    "    # For resize post convolution\n",
    "    if account_resize:\n",
    "        n_w = torch.repeat_interleave(n_w, repeats=repeat_size, dim=1)\n",
    "    \n",
    "    sig_height = model_img_size + conv_size - 1\n",
    "    gy, new_w = fttogy(n_w, batch, None, c_limits, sig_height, conv_size, 0)\n",
    "    gy = 1-mask + torch.mul(gy,mask)\n",
    "    #with torch.autograd.set_detect_anomaly(True):\n",
    "    Llp,LlpImgs,x,Yr,T = detect_lp(wpod_net,im2single(Ivehicle),bound_dim,2**4,(240,80),lp_threshold,gy,train=True)\n",
    "    \n",
    "    outf = torch.flatten(Yr[:,:,0])\n",
    "    outnf = torch.flatten(Yr[:,:,1])\n",
    "    \n",
    "    loss = -1*logloss(labelf,outf)\n",
    "    \n",
    "    if epoch%100==0:\n",
    "        print(-1*loss)\n",
    "   \n",
    "    loss.backward()   \n",
    "    \n",
    "    if epoch%10==0:\n",
    "        optimizer.step()\n",
    "        optimizer.zero_grad()\n",
    "        del loss\n",
    "        torch.cuda.empty_cache()\n",
    "    #if epoch!=n_epochs-1:\n",
    "    #    del inp\n",
    "    #    del new_w\n",
    "    #else:\n",
    "        #saving w to be used for prediction\n",
    "        #torch.save(n_w,'w_0.5_764.pt')\n",
    "\n",
    "    #Code to check gpu allocation    \n",
    "    '''\n",
    "    for obj in gc.get_objects():\n",
    "        try:\n",
    "            if torch.is_tensor(obj) or (hasattr(obj, 'data') and torch.is_tensor(obj.data)):\n",
    "                #print(type(obj), obj.size())\n",
    "                if type(obj) not in obj_dict:\n",
    "                    obj_dict[type(obj)] = 1\n",
    "                else:\n",
    "                    obj_dict[type(obj)] += 1\n",
    "        except: pass\n",
    "    print(obj_dict)\n",
    "    obj_dict.clear()\n",
    "    '''\n"
   ]
  },
  {
   "cell_type": "code",
   "execution_count": 194,
   "metadata": {},
   "outputs": [
    {
     "data": {
      "image/png": "[encoded data removed]",
      "text/plain": [
       "<PIL.Image.Image image mode=RGB size=288x288 at 0x7FC9E0490748>"
      ]
     },
     "execution_count": 194,
     "metadata": {},
     "output_type": "execute_result"
    }
   ],
   "source": [
    "tensor_to_pil(T[0].cpu())"
   ]
  },
  {
   "cell_type": "code",
   "execution_count": 195,
   "metadata": {},
   "outputs": [
    {
     "data": {
      "text/plain": [
       "tensor([0.8022, 0.9925, 0.9995, 0.9995, 0.9987], device='cuda:0',\n",
       "       grad_fn=<IndexBackward>)"
      ]
     },
     "execution_count": 195,
     "metadata": {},
     "output_type": "execute_result"
    }
   ],
   "source": [
    "Yr[:,:,0][np.where(Yr[:,:,0].cpu()>0.5)]"
   ]
  },
  {
   "cell_type": "code",
   "execution_count": 196,
   "metadata": {},
   "outputs": [
    {
     "data": {
      "image/png": "[encoded data removed]",
      "text/plain": [
       "<PIL.Image.Image image mode=RGB size=288x288 at 0x7FC9E0490BA8>"
      ]
     },
     "metadata": {},
     "output_type": "display_data"
    }
   ],
   "source": [
    "display(tensor_to_pil(gy[0].cpu()))"
   ]
  },
  {
   "cell_type": "code",
   "execution_count": null,
   "metadata": {},
   "outputs": [],
   "source": []
  }
 ],
 "metadata": {
  "kernelspec": {
   "display_name": "Python 3",
   "language": "python",
   "name": "python3"
  },
  "language_info": {
   "codemirror_mode": {
    "name": "ipython",
    "version": 3
   },
   "file_extension": ".py",
   "mimetype": "text/x-python",
   "name": "python",
   "nbconvert_exporter": "python",
   "pygments_lexer": "ipython3",
   "version": "3.6.9"
  }
 },
 "nbformat": 4,
 "nbformat_minor": 4
}
