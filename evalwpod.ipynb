{
 "cells": [
  {
   "cell_type": "code",
   "execution_count": null,
   "metadata": {},
   "outputs": [],
   "source": [
    "from pytorch_model import load_wpod\n",
    "import cv2\n",
    "import numpy as np\n",
    "from matplotlib import pyplot as plt\n",
    "from PIL import Image\n",
    "from torchvision import transforms, utils, models\n",
    "from torch import nn\n",
    "import torch\n",
    "from src.label import Label, Shape\n",
    "from src.utils import getWH, nms, im2single, IOU_centre_and_dims\n",
    "from src.projection_utils import getRectPts, find_T_matrix\n",
    "import time\n",
    "from utils import *\n",
    "from tqdm import tqdm"
   ]
  },
  {
   "cell_type": "code",
   "execution_count": null,
   "metadata": {},
   "outputs": [],
   "source": [
    "wpod_net = load_wpod()\n",
    "wpod_net.to(device)\n",
    "wpod_net.eval()\n",
    "lp_threshold = .5"
   ]
  },
  {
   "cell_type": "code",
   "execution_count": null,
   "metadata": {},
   "outputs": [],
   "source": [
    "def imstat(im):\n",
    "    Ivehicle = cv2.imread(im)\n",
    "    plt.imshow(Image.open(im))\n",
    "    plt.show()\n",
    "    ratio = float(max(Ivehicle.shape[:2]))/min(Ivehicle.shape[:2])\n",
    "    side  = int(ratio*288.)\n",
    "    max_dim = min(side + (side%(2**4)),608)\n",
    "    I = im2single(Ivehicle)\n",
    "    net_step = 2**4\n",
    "    min_dim_img = min(I.shape[:2])\n",
    "    factor \t\t= float(max_dim)/min_dim_img\n",
    "\n",
    "    w,h = (np.array(I.shape[1::-1],dtype=float)*factor).astype(int).tolist()\n",
    "    w += (w%net_step!=0)*(net_step - w%net_step)\n",
    "    h += (h%net_step!=0)*(net_step - h%net_step)\n",
    "    Iresized = cv2.resize(I,(w,h))\n",
    "\n",
    "    Tn = Iresized.copy()\n",
    "    Tn = Tn.reshape((1,Tn.shape[0],Tn.shape[1],Tn.shape[2]))\n",
    "    Tn = torch.tensor(Tn, device=device).permute(0,3,1,2)\n",
    "    Yr = wpod_net(Tn).permute(0,2,3,1)[0].cpu().detach().numpy()\n",
    "    Probs = Yr[...,0]\n",
    "    acc = np.amax(Probs)\n",
    "    print(\"Acc is {}%\\n\".format(round(100*acc,4)))\n",
    "    return acc"
   ]
  },
  {
   "cell_type": "code",
   "execution_count": null,
   "metadata": {},
   "outputs": [],
   "source": [
    "#Test Physical. Don't run if you don't have the test images\n",
    "root = \"lp200/lp200_\"\n",
    "names = [\"stripefull\"]\n",
    "for i in range(64):\n",
    "    names.append(root + \"{}\".format(i))\n",
    "accs = []\n",
    "dodge = 0\n",
    "total = -1\n",
    "for name in names:\n",
    "    print(name)  \n",
    "    im = name + \".jpg\"\n",
    "    acc = imstat(im)\n",
    "    accs.append(acc)\n",
    "    if acc < lp_threshold:\n",
    "        dodge += 1\n",
    "    total += 1\n",
    "    \n",
    "#remove full from stats\n",
    "accs.pop(0)\n",
    "\n",
    "print(\"\\n\\nAvg Acc: {}%\\n\".format(round(100*torch.tensor(accs).mean().item(),4)))\n",
    "\n",
    "print(\"dodge_success: {:.6}%\".format(100 * dodge / total))\n"
   ]
  },
  {
   "cell_type": "code",
   "execution_count": null,
   "metadata": {},
   "outputs": [],
   "source": [
    "cop = accs\n",
    "plt.plot(accs)\n",
    "plt.show()\n",
    "cop.sort()\n",
    "plt.plot(cop)\n",
    "plt.show()"
   ]
  },
  {
   "cell_type": "code",
   "execution_count": null,
   "metadata": {},
   "outputs": [],
   "source": [
    "accs.dtype"
   ]
  },
  {
   "cell_type": "code",
   "execution_count": null,
   "metadata": {},
   "outputs": [],
   "source": []
  }
 ],
 "metadata": {
  "kernelspec": {
   "display_name": "Python 3",
   "language": "python",
   "name": "python3"
  },
  "language_info": {
   "codemirror_mode": {
    "name": "ipython",
    "version": 3
   },
   "file_extension": ".py",
   "mimetype": "text/x-python",
   "name": "python",
   "nbconvert_exporter": "python",
   "pygments_lexer": "ipython3",
   "version": "3.8.5"
  }
 },
 "nbformat": 4,
 "nbformat_minor": 4
}
