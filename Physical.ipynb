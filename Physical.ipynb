{
 "cells": [
  {
   "cell_type": "code",
   "execution_count": null,
   "metadata": {},
   "outputs": [],
   "source": [
    "from pathlib import Path\n",
    "import torch\n",
    "import gc\n",
    "from torch.utils.data import Dataset, DataLoader\n",
    "from torchvision import transforms, utils, models\n",
    "from torch import nn\n",
    "from torch import optim\n",
    "import json\n",
    "from PIL import Image\n",
    "import io\n",
    "import cv2\n",
    "import torchvision.transforms.functional as TF\n",
    "from torchvision.utils import save_image\n",
    "from torchvision.transforms import ToPILImage\n",
    "from matplotlib import pyplot as plt\n",
    "import numpy as np\n",
    "import torch.nn as nn\n",
    "import torch.nn.functional as F\n",
    "from torch.autograd import Variable\n",
    "import torch.utils.data as data\n",
    "import torch.optim as optim\n",
    "from torch.optim import lr_scheduler\n",
    "from tqdm import tqdm\n",
    "import time\n",
    "import os\n",
    "import copy\n",
    "import pickle\n",
    "import urllib.request\n",
    "import requests\n",
    "from matplotlib.pyplot import imshow\n",
    "import random\n",
    "from utils import *\n",
    "np.set_printoptions(precision=5,suppress=True)"
   ]
  },
  {
   "cell_type": "code",
   "execution_count": null,
   "metadata": {},
   "outputs": [],
   "source": [
    "stem = 'lp200_'\n",
    "loc = \"lp200\""
   ]
  },
  {
   "cell_type": "code",
   "execution_count": null,
   "metadata": {},
   "outputs": [],
   "source": [
    "for i, path in enumerate(Path(loc).iterdir()):\n",
    "    if path.is_file():\n",
    "        old_name = path.stem\n",
    "        old_extension = path.suffix\n",
    "        directory = path.parent\n",
    "        #j = int(old_name) - 1\n",
    "        new_name = \"{}{}\".format(stem, i) + old_extension\n",
    "        path.rename(Path(directory, new_name))\n"
   ]
  },
  {
   "cell_type": "code",
   "execution_count": null,
   "metadata": {},
   "outputs": [],
   "source": []
  },
  {
   "cell_type": "code",
   "execution_count": null,
   "metadata": {},
   "outputs": [],
   "source": [
    "def ordr(x):\n",
    "    return [x[0], x[1]-x[0], x[2]-x[1],1-x[2]]"
   ]
  },
  {
   "cell_type": "code",
   "execution_count": null,
   "metadata": {},
   "outputs": [],
   "source": [
    "test = torch.load(\"size_200_rand_max_lr0.1.pt\", map_location=torch.device('cpu'))\n",
    "sigb = test[0][0].flatten().detach().cpu().numpy()\n",
    "sigg = test[0][1].flatten().detach().cpu().numpy()\n",
    "sigr = test[0][2].flatten().detach().cpu().numpy()"
   ]
  },
  {
   "cell_type": "code",
   "execution_count": null,
   "metadata": {},
   "outputs": [],
   "source": [
    "sig = []\n",
    "order = []\n",
    "for i, val in enumerate(sigr[:200]):\n",
    "    if val < sigg[i] < sigb[i]:\n",
    "        order.append([9,10,11])\n",
    "        sig.append(ordr([val, sigg[i], sigb[i]]))\n",
    "    elif val < sigb[i] < sigg[i]:\n",
    "        order.append([9,11,10])\n",
    "        sig.append(ordr([val, sigb[i], sigg[i]]))\n",
    "    elif sigg[i] < val < sigb[i]:\n",
    "        order.append([10,9,11])\n",
    "        sig.append(ordr([sigg[i], val, sigb[i]]))\n",
    "    elif sigg[i] < sigb[i] < val:\n",
    "        order.append([10,11,9])\n",
    "        sig.append(ordr([sigg[i], sigb[i], val]))\n",
    "    elif sigb[i] < sigg[i] < val:\n",
    "        order.append([11,10,9])\n",
    "        sig.append(ordr([sigb[i], sigg[i], val]))\n",
    "    elif sigb[i] < val < sigg[i]:\n",
    "        order.append([11,9,10])\n",
    "        sig.append(ordr([sigb[i], val, sigg[i]]))"
   ]
  },
  {
   "cell_type": "code",
   "execution_count": null,
   "metadata": {},
   "outputs": [],
   "source": [
    "np.set_printoptions(threshold=np.inf)\n",
    "np.rint(np.array(sig).flatten() * (22680/512)).astype(int)"
   ]
  },
  {
   "cell_type": "code",
   "execution_count": null,
   "metadata": {},
   "outputs": [],
   "source": [
    "np.array(order).flatten()"
   ]
  },
  {
   "cell_type": "code",
   "execution_count": null,
   "metadata": {},
   "outputs": [],
   "source": [
    "np.array(sigb).shape"
   ]
  },
  {
   "cell_type": "code",
   "execution_count": null,
   "metadata": {},
   "outputs": [],
   "source": [
    "from PIL import Image\n",
    "x = np.array(Image.open(\"lpte.jpg\"))\n",
    "x = x/255\n",
    "x.shape"
   ]
  },
  {
   "cell_type": "code",
   "execution_count": null,
   "metadata": {},
   "outputs": [],
   "source": [
    "def chan(x, chan):\n",
    "    r = x[...,chan]\n",
    "    t = np.zeros(x.shape)\n",
    "    t[...,chan] = r\n",
    "    plt.imshow(t)\n",
    "    plt.show()"
   ]
  },
  {
   "cell_type": "code",
   "execution_count": null,
   "metadata": {},
   "outputs": [],
   "source": [
    "chan(x,0)\n",
    "chan(x,1)\n",
    "chan(x,2)"
   ]
  },
  {
   "cell_type": "code",
   "execution_count": null,
   "metadata": {},
   "outputs": [],
   "source": [
    "np.amax(x)"
   ]
  },
  {
   "cell_type": "code",
   "execution_count": null,
   "metadata": {},
   "outputs": [],
   "source": []
  }
 ],
 "metadata": {
  "kernelspec": {
   "display_name": "Python 3",
   "language": "python",
   "name": "python3"
  },
  "language_info": {
   "codemirror_mode": {
    "name": "ipython",
    "version": 3
   },
   "file_extension": ".py",
   "mimetype": "text/x-python",
   "name": "python",
   "nbconvert_exporter": "python",
   "pygments_lexer": "ipython3",
   "version": "3.8.5"
  }
 },
 "nbformat": 4,
 "nbformat_minor": 2
}
